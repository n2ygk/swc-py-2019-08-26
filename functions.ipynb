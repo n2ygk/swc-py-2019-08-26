{
 "cells": [
  {
   "cell_type": "code",
   "execution_count": 1,
   "metadata": {},
   "outputs": [],
   "source": [
    "def print_greeting():\n",
    "    print(\"hello!\")"
   ]
  },
  {
   "cell_type": "code",
   "execution_count": 2,
   "metadata": {},
   "outputs": [
    {
     "name": "stdout",
     "output_type": "stream",
     "text": [
      "hello!\n"
     ]
    }
   ],
   "source": [
    "print_greeting()"
   ]
  },
  {
   "cell_type": "code",
   "execution_count": 3,
   "metadata": {},
   "outputs": [],
   "source": [
    "def print_date(year, month, day):\n",
    "    joined = str(year) + '/' + str(month) + '/' + str(day)\n",
    "    print(joined)"
   ]
  },
  {
   "cell_type": "code",
   "execution_count": 4,
   "metadata": {},
   "outputs": [
    {
     "name": "stdout",
     "output_type": "stream",
     "text": [
      "1754/12/31\n"
     ]
    }
   ],
   "source": [
    "print_date(1754, 12, 31)"
   ]
  },
  {
   "cell_type": "code",
   "execution_count": 5,
   "metadata": {},
   "outputs": [
    {
     "name": "stdout",
     "output_type": "stream",
     "text": [
      "1754/12/3\n"
     ]
    }
   ],
   "source": [
    "print_date(month=12, year=1754, day=3)"
   ]
  },
  {
   "cell_type": "code",
   "execution_count": 6,
   "metadata": {},
   "outputs": [
    {
     "ename": "TypeError",
     "evalue": "print_date() missing 2 required positional arguments: 'month' and 'day'",
     "output_type": "error",
     "traceback": [
      "\u001b[0;31m---------------------------------------------------------------------------\u001b[0m",
      "\u001b[0;31mTypeError\u001b[0m                                 Traceback (most recent call last)",
      "\u001b[0;32m<ipython-input-6-8e700186185c>\u001b[0m in \u001b[0;36m<module>\u001b[0;34m\u001b[0m\n\u001b[0;32m----> 1\u001b[0;31m \u001b[0mprint_date\u001b[0m\u001b[0;34m(\u001b[0m\u001b[0;36m1754\u001b[0m\u001b[0;34m)\u001b[0m\u001b[0;34m\u001b[0m\u001b[0;34m\u001b[0m\u001b[0m\n\u001b[0m",
      "\u001b[0;31mTypeError\u001b[0m: print_date() missing 2 required positional arguments: 'month' and 'day'"
     ]
    }
   ],
   "source": [
    "print_date(1754)"
   ]
  },
  {
   "cell_type": "code",
   "execution_count": 7,
   "metadata": {},
   "outputs": [
    {
     "ename": "TypeError",
     "evalue": "print_date() missing 2 required positional arguments: 'year' and 'day'",
     "output_type": "error",
     "traceback": [
      "\u001b[0;31m---------------------------------------------------------------------------\u001b[0m",
      "\u001b[0;31mTypeError\u001b[0m                                 Traceback (most recent call last)",
      "\u001b[0;32m<ipython-input-7-90f6422ae8f5>\u001b[0m in \u001b[0;36m<module>\u001b[0;34m\u001b[0m\n\u001b[0;32m----> 1\u001b[0;31m \u001b[0mprint_date\u001b[0m\u001b[0;34m(\u001b[0m\u001b[0mmonth\u001b[0m\u001b[0;34m=\u001b[0m\u001b[0;36m11\u001b[0m\u001b[0;34m)\u001b[0m\u001b[0;34m\u001b[0m\u001b[0;34m\u001b[0m\u001b[0m\n\u001b[0m",
      "\u001b[0;31mTypeError\u001b[0m: print_date() missing 2 required positional arguments: 'year' and 'day'"
     ]
    }
   ],
   "source": [
    "print_date(month=11)"
   ]
  },
  {
   "cell_type": "code",
   "execution_count": 8,
   "metadata": {},
   "outputs": [],
   "source": [
    "def average(values):\n",
    "    if len(values) == 0:\n",
    "        return None\n",
    "    return sum(values) / len(values)"
   ]
  },
  {
   "cell_type": "code",
   "execution_count": 9,
   "metadata": {},
   "outputs": [
    {
     "data": {
      "text/plain": [
       "2.6666666666666665"
      ]
     },
     "execution_count": 9,
     "metadata": {},
     "output_type": "execute_result"
    }
   ],
   "source": [
    "average([1,3,4])"
   ]
  },
  {
   "cell_type": "code",
   "execution_count": 11,
   "metadata": {},
   "outputs": [
    {
     "name": "stdout",
     "output_type": "stream",
     "text": [
      "None\n"
     ]
    }
   ],
   "source": [
    "print(average([]))"
   ]
  },
  {
   "cell_type": "code",
   "execution_count": 12,
   "metadata": {},
   "outputs": [
    {
     "name": "stdout",
     "output_type": "stream",
     "text": [
      "1754/12/31\n"
     ]
    }
   ],
   "source": [
    "result = print_date(1754, 12, 31)"
   ]
  },
  {
   "cell_type": "code",
   "execution_count": 13,
   "metadata": {},
   "outputs": [
    {
     "name": "stdout",
     "output_type": "stream",
     "text": [
      "None\n"
     ]
    }
   ],
   "source": [
    "print(result)"
   ]
  },
  {
   "cell_type": "code",
   "execution_count": 19,
   "metadata": {},
   "outputs": [],
   "source": [
    "def another_function():\n",
    "    print(\"Syntax errors are annoying.\")\n",
    "    print(\"But at least python tells us about them!\")\n",
    "    print(\"So they are usually not too hard to fix.\")"
   ]
  },
  {
   "cell_type": "code",
   "execution_count": 20,
   "metadata": {},
   "outputs": [
    {
     "name": "stdout",
     "output_type": "stream",
     "text": [
      "Syntax errors are annoying.\n",
      "But at least python tells us about them!\n",
      "So they are usually not too hard to fix.\n"
     ]
    }
   ],
   "source": [
    "another_function()"
   ]
  },
  {
   "cell_type": "code",
   "execution_count": 23,
   "metadata": {},
   "outputs": [
    {
     "name": "stdout",
     "output_type": "stream",
     "text": [
      "pressure is 22.5\n",
      "calling None\n"
     ]
    }
   ],
   "source": [
    "def report(pressure):\n",
    "    print('pressure is', pressure)\n",
    "\n",
    "print('calling', report(22.5))"
   ]
  },
  {
   "cell_type": "code",
   "execution_count": 24,
   "metadata": {},
   "outputs": [],
   "source": [
    "import pandas as pd\n",
    "\n",
    "def min_in_data(filename):\n",
    "    data = pd.read_csv(filename)\n",
    "    return data.min()"
   ]
  },
  {
   "cell_type": "code",
   "execution_count": 25,
   "metadata": {},
   "outputs": [
    {
     "name": "stdout",
     "output_type": "stream",
     "text": [
      "continent              Africa\n",
      "country           Afghanistan\n",
      "gdpPercap_1952        298.846\n",
      "gdpPercap_1957        335.997\n",
      "gdpPercap_1962        355.203\n",
      "gdpPercap_1967            349\n",
      "gdpPercap_1972            357\n",
      "gdpPercap_1977            371\n",
      "gdpPercap_1982            424\n",
      "gdpPercap_1987            385\n",
      "gdpPercap_1992            347\n",
      "gdpPercap_1997        312.188\n",
      "gdpPercap_2002        241.166\n",
      "gdpPercap_2007        277.552\n",
      "lifeExp_1952           28.801\n",
      "lifeExp_1957           30.332\n",
      "lifeExp_1962           31.997\n",
      "lifeExp_1967            34.02\n",
      "lifeExp_1972             35.4\n",
      "lifeExp_1977            31.22\n",
      "lifeExp_1982           38.445\n",
      "lifeExp_1987           39.906\n",
      "lifeExp_1992           23.599\n",
      "lifeExp_1997           36.087\n",
      "lifeExp_2002           39.193\n",
      "lifeExp_2007           39.613\n",
      "pop_1952                60011\n",
      "pop_1957                61325\n",
      "pop_1962                65345\n",
      "pop_1967                70787\n",
      "pop_1972                76595\n",
      "pop_1977                86796\n",
      "pop_1982                98593\n",
      "pop_1987               110812\n",
      "pop_1992               125911\n",
      "pop_1997               145608\n",
      "pop_2002               170372\n",
      "pop_2007               199579\n",
      "dtype: object\n"
     ]
    }
   ],
   "source": [
    "print(min_in_data('data/gapminder_all.csv'))"
   ]
  },
  {
   "cell_type": "code",
   "execution_count": 26,
   "metadata": {},
   "outputs": [],
   "source": [
    "def first_negative(values):\n",
    "    for v in values:\n",
    "        if v < 0:\n",
    "            return v"
   ]
  },
  {
   "cell_type": "code",
   "execution_count": 27,
   "metadata": {},
   "outputs": [
    {
     "data": {
      "text/plain": [
       "-9"
      ]
     },
     "execution_count": 27,
     "metadata": {},
     "output_type": "execute_result"
    }
   ],
   "source": [
    "first_negative([1,3,-9,4,5,6,-100])"
   ]
  },
  {
   "cell_type": "code",
   "execution_count": 29,
   "metadata": {},
   "outputs": [
    {
     "name": "stdout",
     "output_type": "stream",
     "text": [
      "None\n"
     ]
    }
   ],
   "source": [
    "print(first_negative([]))"
   ]
  },
  {
   "cell_type": "code",
   "execution_count": 30,
   "metadata": {},
   "outputs": [
    {
     "name": "stdout",
     "output_type": "stream",
     "text": [
      "2003/2/1\n"
     ]
    }
   ],
   "source": [
    "print_date(day=1, month=2, year=2003)"
   ]
  },
  {
   "cell_type": "code",
   "execution_count": 36,
   "metadata": {},
   "outputs": [
    {
     "name": "stdout",
     "output_type": "stream",
     "text": [
      "87.07005884329361 jumbo\n",
      "88.6352925295699 jumbo\n",
      "82.08760882122121 large\n",
      "89.56059469007074 jumbo\n",
      "82.5052031860848 large\n",
      "53.9890417893794 small\n",
      "62.28096200313215 medium\n",
      "78.37356952650536 large\n",
      "58.97981100378563 medium\n",
      "75.20321535653862 large\n"
     ]
    }
   ],
   "source": [
    "import random\n",
    "def print_egg_label(mass):\n",
    "    #egg sizing machinery prints a label\n",
    "    if (mass <= 50):\n",
    "        return str(mass) + \" too light, probably spoiled.\"\n",
    "    elif (mass >= 90):\n",
    "        return str(mass) + \" too heavy\"\n",
    "    elif(mass>=85):\n",
    "        return \"jumbo\"\n",
    "    elif(mass>=70):\n",
    "        return \"large\"\n",
    "    elif(mass<70 and mass>=55):\n",
    "        return \"medium\"\n",
    "    else:\n",
    "        return \"small\"\n",
    "    \n",
    "for i in range(10):\n",
    "\n",
    "    # simulating the mass of a chicken egg\n",
    "    # the (random) mass will be 70 +/- 20 grams\n",
    "    mass=70+20.0*(2.0*random.random()-1.0)\n",
    "\n",
    "    print(mass, print_egg_label(mass))\n",
    "   "
   ]
  },
  {
   "cell_type": "code",
   "execution_count": 38,
   "metadata": {},
   "outputs": [
    {
     "data": {
      "text/plain": [
       "'100 too heavy'"
      ]
     },
     "execution_count": 38,
     "metadata": {},
     "output_type": "execute_result"
    }
   ],
   "source": [
    "print_egg_label(100)"
   ]
  },
  {
   "cell_type": "code",
   "execution_count": 40,
   "metadata": {},
   "outputs": [],
   "source": [
    "import pandas as pd\n",
    "\n",
    "df = pd.read_csv('data/gapminder_gdp_asia.csv', index_col=0)\n",
    "japan = df.loc['Japan']"
   ]
  },
  {
   "cell_type": "code",
   "execution_count": 47,
   "metadata": {},
   "outputs": [
    {
     "name": "stdout",
     "output_type": "stream",
     "text": [
      "gdpPercap_1952     3216.956347\n",
      "gdpPercap_1957     4317.694365\n",
      "gdpPercap_1962     6576.649461\n",
      "gdpPercap_1967     9847.788607\n",
      "gdpPercap_1972    14778.786360\n",
      "gdpPercap_1977    16610.377010\n",
      "gdpPercap_1982    19384.105710\n",
      "gdpPercap_1987    22375.941890\n",
      "gdpPercap_1992    26824.895110\n",
      "gdpPercap_1997    28816.584990\n",
      "gdpPercap_2002    28604.591900\n",
      "gdpPercap_2007    31656.068060\n",
      "Name: Japan, dtype: float64\n",
      "198\n"
     ]
    }
   ],
   "source": [
    "print(japan)\n",
    "print(1983 // 10)"
   ]
  },
  {
   "cell_type": "code",
   "execution_count": 49,
   "metadata": {},
   "outputs": [],
   "source": [
    "year = 1983\n",
    "gdp_decade = 'gdpPercap_' + str(year // 10)\n",
    "avg = (japan.loc[gdp_decade + '2'] + japan.loc[gdp_decade + '7']) / 2"
   ]
  },
  {
   "cell_type": "code",
   "execution_count": 50,
   "metadata": {},
   "outputs": [
    {
     "name": "stdout",
     "output_type": "stream",
     "text": [
      "20880.023800000003\n"
     ]
    }
   ],
   "source": [
    "print(avg)"
   ]
  },
  {
   "cell_type": "code",
   "execution_count": 51,
   "metadata": {},
   "outputs": [
    {
     "data": {
      "text/plain": [
       "Index(['gdpPercap_1952', 'gdpPercap_1957', 'gdpPercap_1962', 'gdpPercap_1967',\n",
       "       'gdpPercap_1972', 'gdpPercap_1977', 'gdpPercap_1982', 'gdpPercap_1987',\n",
       "       'gdpPercap_1992', 'gdpPercap_1997', 'gdpPercap_2002', 'gdpPercap_2007'],\n",
       "      dtype='object')"
      ]
     },
     "execution_count": 51,
     "metadata": {},
     "output_type": "execute_result"
    }
   ],
   "source": [
    "japan.index"
   ]
  },
  {
   "cell_type": "code",
   "execution_count": 52,
   "metadata": {},
   "outputs": [],
   "source": [
    "def avg_gdp_in_decade(country, continent, year):\n",
    "    df = pd.read_csv('data/gapminder_gdp_' + continent + '.csv', index_col=0)\n",
    "    c = df.loc[country]\n",
    "    gdp_decade = 'gdpPercap_' + str(year // 10)\n",
    "    total = 0.0\n",
    "    num_years = 0\n",
    "    for yr_header in c.index: # c's index contains reported years\n",
    "        if yr_header.startswith(gdp_decade):\n",
    "            total = total + c.loc[yr_header]\n",
    "            num_years = num_years + 1\n",
    "    return total/num_years"
   ]
  },
  {
   "cell_type": "code",
   "execution_count": 54,
   "metadata": {},
   "outputs": [
    {
     "name": "stdout",
     "output_type": "stream",
     "text": [
      "20880.023800000003\n"
     ]
    }
   ],
   "source": [
    "print(avg_gdp_in_decade('Japan', 'asia', 1983))"
   ]
  },
  {
   "cell_type": "markdown",
   "metadata": {},
   "source": [
    "Defintion of a logistic map: $$ x_{n+1} = rx_{n}(1 - x_{n}) $$"
   ]
  },
  {
   "cell_type": "code",
   "execution_count": 55,
   "metadata": {},
   "outputs": [],
   "source": [
    "def logistic_map(x, r):\n",
    "    return r * x * (1 - x)"
   ]
  },
  {
   "cell_type": "code",
   "execution_count": 71,
   "metadata": {},
   "outputs": [],
   "source": [
    "r = 1.0\n",
    "x = [0.5]\n",
    "t_final = 10\n",
    "for t in range(1, t_final):\n",
    "    x.append(logistic_map(x[-1], r))"
   ]
  },
  {
   "cell_type": "code",
   "execution_count": 72,
   "metadata": {},
   "outputs": [
    {
     "data": {
      "text/plain": [
       "[<matplotlib.lines.Line2D at 0x122994e80>]"
      ]
     },
     "execution_count": 72,
     "metadata": {},
     "output_type": "execute_result"
    },
    {
     "data": {
      "image/png": "[encoded data removed]",
      "text/plain": [
       "<Figure size 432x288 with 1 Axes>"
      ]
     },
     "metadata": {
      "needs_background": "light"
     },
     "output_type": "display_data"
    }
   ],
   "source": [
    "import matplotlib.pyplot as plt\n",
    "%matplotlib inline\n",
    "plt.plot(range(len(x)), x)"
   ]
  }
 ],
 "metadata": {
  "kernelspec": {
   "display_name": "Python 3",
   "language": "python",
   "name": "python3"
  },
  "language_info": {
   "codemirror_mode": {
    "name": "ipython",
    "version": 3
   },
   "file_extension": ".py",
   "mimetype": "text/x-python",
   "name": "python",
   "nbconvert_exporter": "python",
   "pygments_lexer": "ipython3",
   "version": "3.7.3"
  }
 },
 "nbformat": 4,
 "nbformat_minor": 2
}

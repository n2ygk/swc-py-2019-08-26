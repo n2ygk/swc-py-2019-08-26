{
 "cells": [
  {
   "cell_type": "markdown",
   "metadata": {
    "slideshow": {
     "slide_type": "slide"
    }
   },
   "source": [
    "# Foundations for Research Computing Bootcamps\n",
    "## August 26-27, 2019\n",
    "\n",
    "<img src='./spreadsheets_2x.png'>https://xkcd.com/2180/</img>\n",
    "\n",
    "# http://bit.ly/2ZFk8v1 Section 1 - PYTHON\n",
    "# http://bit.ly/2KucbT0 Section 2 - PYTHON\n",
    "# http://bit.ly/2ZL9ymo Section 3 - PYTHON\n",
    "# http://bit.ly/2MK9G1v Section 4 - R\n"
   ]
  }
 ],
 "metadata": {
  "kernelspec": {
   "display_name": "Python 3",
   "language": "python",
   "name": "python3"
  },
  "language_info": {
   "codemirror_mode": {
    "name": "ipython",
    "version": 3
   },
   "file_extension": ".py",
   "mimetype": "text/x-python",
   "name": "python",
   "nbconvert_exporter": "python",
   "pygments_lexer": "ipython3",
   "version": "3.7.3"
  }
 },
 "nbformat": 4,
 "nbformat_minor": 2
}
